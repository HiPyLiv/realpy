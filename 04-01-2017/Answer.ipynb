{
 "cells": [
  {
   "cell_type": "code",
   "execution_count": null,
   "metadata": {
    "collapsed": true
   },
   "outputs": [],
   "source": [
    "%matplotlib inline"
   ]
  },
  {
   "cell_type": "code",
   "execution_count": null,
   "metadata": {},
   "outputs": [],
   "source": [
    "from mpl_toolkits.axes_grid1 import make_axes_locatable\n",
    "import matplotlib.pyplot as plt\n",
    "import numpy as np"
   ]
  },
  {
   "cell_type": "code",
   "execution_count": null,
   "metadata": {},
   "outputs": [],
   "source": [
    "data = np.loadtxt('160602_A_T.txt')\n",
    "wavelengths = data[:, 0]\n",
    "observations = data[:, 1:]"
   ]
  },
  {
   "cell_type": "code",
   "execution_count": null,
   "metadata": {},
   "outputs": [],
   "source": [
    "fig, ax = plt.subplots()\n",
    "\n",
    "for i in np.arange(observations.shape[1]):\n",
    "    ax.plot(wavelengths, observations[:, i])\n",
    "    \n",
    "ax.set_xlim(wavelengths[0], wavelengths[-1])\n",
    "ax.set_ylim(observations.min(), observations.max() + 1)\n",
    "ax.set_xlabel('Wavelength (nm)')\n",
    "ax.set_ylabel('Transmission')\n",
    "\n",
    "# fig.savefig('fig1.png', dpi=600, bbox_inches='tight')"
   ]
  },
  {
   "cell_type": "code",
   "execution_count": null,
   "metadata": {},
   "outputs": [],
   "source": [
    "fig, ax = plt.subplots(ncols=3, sharey=True)\n",
    "\n",
    "wavelength_ranges = [(0, 299), (300, 900), (901, 5000)]\n",
    "\n",
    "for i, (lb, ub) in enumerate(wavelength_ranges):\n",
    "    wlen = wavelengths[(wavelengths >= lb) & (wavelengths <= ub)]\n",
    "    obs = observations[(wavelengths >= lb) & (wavelengths <= ub)]\n",
    "    \n",
    "    for a in np.arange(obs.shape[1]):\n",
    "        ax[i].plot(wlen, obs[:, a])\n",
    "    ax[i].set_title('Wavelength\\n%d-%dnm' % (lb, ub))\n",
    "    ax[i].set_xlim(wlen[0], wlen[-1])\n",
    "    ax[i].set_ylim(observations.min(), observations.max() + 1)\n",
    "\n",
    "ax[1].set_xlabel('Wavelength (nm)')\n",
    "ax[0].set_ylabel('Transmission')\n",
    "\n",
    "# fig.savefig('fig2.png', dpi=600, bbox_inches='tight')"
   ]
  },
  {
   "cell_type": "code",
   "execution_count": null,
   "metadata": {},
   "outputs": [],
   "source": [
    "fig, ax = plt.subplots(ncols=3, sharey=True)\n",
    "\n",
    "wavelength_ranges = [(0, 299), (300, 900), (901, 5000)]\n",
    "\n",
    "for i, (lb, ub) in enumerate(wavelength_ranges):\n",
    "    obs = observations[(wavelengths >= lb) & (wavelengths <= ub)]    \n",
    "    obs_avg = obs.mean(axis=0).reshape((10, 10))\n",
    "    im = ax[i].imshow(obs_avg, interpolation='nearest')\n",
    "    ax[i].set_title('Wavelength\\n%d-%dnm' % (lb, ub))\n",
    "    ax[i].set(adjustable='box-forced', aspect='equal')\n",
    "    ax[i].set_xticks([0, 4, 9])\n",
    "    ax[i].set_yticks([0, 4, 9])\n",
    "\n",
    "fig.subplots_adjust(right=0.8)\n",
    "cbar_ax = fig.add_axes([0.85, 0.35, 0.02, 0.3])\n",
    "fig.colorbar(im, cax=cbar_ax)\n",
    "\n",
    "# fig.savefig('fig3.png', dpi=600, bbox_inches='tight')"
   ]
  }
 ],
 "metadata": {
  "kernelspec": {
   "display_name": "Python 2",
   "language": "python",
   "name": "python2"
  },
  "language_info": {
   "codemirror_mode": {
    "name": "ipython",
    "version": 2
   },
   "file_extension": ".py",
   "mimetype": "text/x-python",
   "name": "python",
   "nbconvert_exporter": "python",
   "pygments_lexer": "ipython2",
   "version": "2.7.10"
  }
 },
 "nbformat": 4,
 "nbformat_minor": 1
}
